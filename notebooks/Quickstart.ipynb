{
 "cells": [
  {
   "cell_type": "code",
   "execution_count": null,
   "id": "allied-parks",
   "metadata": {},
   "outputs": [],
   "source": [
    "%%javascript\n",
    "IPython.OutputArea.auto_scroll_threshold = 9999;"
   ]
  },
  {
   "cell_type": "code",
   "execution_count": null,
   "id": "sexual-thomas",
   "metadata": {},
   "outputs": [],
   "source": [
    "from IPython.core.display import display, HTML\n",
    "display(HTML(\"<style>.rendered_html { font-size: 15px; }</style>\"))\n",
    "\n",
    "import logging\n",
    "logging.basicConfig(level='INFO')"
   ]
  },
  {
   "cell_type": "markdown",
   "id": "liberal-letter",
   "metadata": {},
   "source": [
    "# Timeseria quickstart\n",
    "\n",
    "Timeseria is a data processing library which aims at making it easy to manage time series data and to build models on top of it.\n",
    "\n",
    "It provides a built-in set of operations (as resampling, slotting, differencing etc.) as well as \n",
    "models (reconstruction, forecasting and anomaly detection); and both custom operations and models can be easily pugged in.\n",
    "\n",
    "Timeseria also tries to address by design all those annoying things which are often left as an implementation detail but that actually cause wasting massive amounts of time - as handling data losses, non-uniform sampling rates, differences between time-slotted data and punctual observations, variable time units, timezones, DST changes and so on.\n",
    "\n",
    "This is a (super) quickstart, if you are looking for a more structured introduction, have a look at the [welcome tutorial](https://sarusso.github.io/Timeseria/Welcome.html).\n",
    "\n",
    "You can also run this quickstart interactively in [Binder](https://mybinder.org/v2/gh/sarusso/Timeseria-notebooks/HEAD)."
   ]
  },
  {
   "cell_type": "markdown",
   "id": "incoming-collectible",
   "metadata": {},
   "source": [
    "## Load some data\n"
   ]
  },
  {
   "cell_type": "markdown",
   "id": "demonstrated-header",
   "metadata": {},
   "source": [
    "Let's load some data: an indoor temperature in winter dataset."
   ]
  },
  {
   "cell_type": "code",
   "execution_count": null,
   "id": "instant-twenty",
   "metadata": {},
   "outputs": [],
   "source": [
    "from timeseria import storages\n",
    "DATASET_PATH = '/'.join(storages.__file__.split('/')[0:-1]) + '/tests/test_data/csv/'\n",
    "\n",
    "temperature_timeseries = storages.CSVFileStorage(DATASET_PATH + 'temperature_winter.csv').get()"
   ]
  },
  {
   "cell_type": "markdown",
   "id": "dense-staff",
   "metadata": {},
   "source": [
    "Let's have a look at the time series we just loaded:"
   ]
  },
  {
   "cell_type": "code",
   "execution_count": null,
   "id": "union-medication",
   "metadata": {
    "scrolled": true
   },
   "outputs": [],
   "source": [
    "temperature_timeseries"
   ]
  },
  {
   "cell_type": "markdown",
   "id": "bored-packet",
   "metadata": {},
   "source": [
    "Now plot the data, using Timeseria built-in plotting engine:"
   ]
  },
  {
   "cell_type": "code",
   "execution_count": null,
   "id": "difficult-natural",
   "metadata": {},
   "outputs": [],
   "source": [
    "temperature_timeseries.plot()"
   ]
  },
  {
   "cell_type": "markdown",
   "id": "nominated-settlement",
   "metadata": {},
   "source": [
    "If you zoom in, you will see that data has been aggregated and plotted as a line chart plus an area chart (which reprensents the minimum and maximum values boundaries before aggregating the data). In this way you can plot even millions of data points wihtout slowing down the plot or crashing your browser, without loosing the information about peaks and spikes."
   ]
  },
  {
   "cell_type": "markdown",
   "id": "infrared-mercury",
   "metadata": {},
   "source": [
    "<br/>\n",
    "\n",
    "## Resample (and make data uniform)\n",
    "\n",
    "Now resample the time series at one hour sampling interval, also making data uniform and equally spaced along the time dimension. Gaps are filled by linear interpolation and the \"data loss\" index is added as data points attribute."
   ]
  },
  {
   "cell_type": "code",
   "execution_count": null,
   "id": "heavy-break",
   "metadata": {},
   "outputs": [],
   "source": [
    "temperature_timeseries = temperature_timeseries.resample('1h')"
   ]
  },
  {
   "cell_type": "code",
   "execution_count": null,
   "id": "egyptian-focus",
   "metadata": {},
   "outputs": [],
   "source": [
    "temperature_timeseries"
   ]
  },
  {
   "cell_type": "code",
   "execution_count": null,
   "id": "residential-landscape",
   "metadata": {},
   "outputs": [],
   "source": [
    "temperature_timeseries[58].data_loss"
   ]
  },
  {
   "cell_type": "code",
   "execution_count": null,
   "id": "assured-temple",
   "metadata": {
    "scrolled": true
   },
   "outputs": [],
   "source": [
    "temperature_timeseries.plot()"
   ]
  },
  {
   "cell_type": "markdown",
   "id": "desperate-telescope",
   "metadata": {},
   "source": [
    "<br/>\n",
    "\n",
    "## Reconstruct missing data\n",
    "\n",
    "Try two different data reconstruction models, a periodic average-based model and Facebook's Prophet. Fit the models on about 80% of the data and test on the rest, on 6, 12, and 24 hours gaps, limiting the evaluation to 100 samples per step to speed up the process.\n",
    "\n",
    "Then, chose the best one."
   ]
  },
  {
   "cell_type": "code",
   "execution_count": null,
   "id": "geographic-steel",
   "metadata": {},
   "outputs": [],
   "source": [
    "from timeseria.models import PeriodicAverageReconstructor, ProphetReconstructor"
   ]
  },
  {
   "cell_type": "code",
   "execution_count": null,
   "id": "general-seeking",
   "metadata": {},
   "outputs": [],
   "source": [
    "paverage_reconstructor = PeriodicAverageReconstructor()\n",
    "paverage_reconstructor.fit(temperature_timeseries[0:2000])\n",
    "paverage_reconstructor.evaluate(temperature_timeseries[2000:], steps=[6,12,24], limit=100)"
   ]
  },
  {
   "cell_type": "code",
   "execution_count": null,
   "id": "modern-level",
   "metadata": {},
   "outputs": [],
   "source": [
    "prophet_reconstructor = ProphetReconstructor()\n",
    "prophet_reconstructor.fit(temperature_timeseries[0:2000])\n",
    "prophet_reconstructor.evaluate(temperature_timeseries[2000:], steps=[6,12,24], limit=100)"
   ]
  },
  {
   "cell_type": "markdown",
   "id": "heavy-spring",
   "metadata": {},
   "source": [
    "Use the reconstruction model which perfomerd better to reconstruct missing data. By default only 100% data losses are recontructed as lower da losses are still considered as representative. A \"data_reconstructed\" index is added as data points attirbute."
   ]
  },
  {
   "cell_type": "code",
   "execution_count": null,
   "id": "modular-somerset",
   "metadata": {},
   "outputs": [],
   "source": [
    "temperature_timeseries = paverage_reconstructor.apply(temperature_timeseries)"
   ]
  },
  {
   "cell_type": "markdown",
   "id": "oriented-endorsement",
   "metadata": {},
   "source": [
    "...and plot:"
   ]
  },
  {
   "cell_type": "code",
   "execution_count": null,
   "id": "differential-smith",
   "metadata": {},
   "outputs": [],
   "source": [
    "temperature_timeseries.plot()"
   ]
  },
  {
   "cell_type": "code",
   "execution_count": null,
   "id": "shaped-inflation",
   "metadata": {},
   "outputs": [],
   "source": [
    "temperature_timeseries[0].data_reconstructed"
   ]
  },
  {
   "cell_type": "markdown",
   "id": "heavy-experience",
   "metadata": {},
   "source": [
    "<br />\n",
    "\n",
    "## Three days hourly temperature forecast\n",
    "\n",
    "Use a LSTM neural network mdoel to to forecast three days of temperatures, but before fitting run a cross validation to get an idea about the accuracy you can expect:"
   ]
  },
  {
   "cell_type": "code",
   "execution_count": null,
   "id": "ceramic-accused",
   "metadata": {},
   "outputs": [],
   "source": [
    "from timeseria.models import LSTMForecaster"
   ]
  },
  {
   "cell_type": "code",
   "execution_count": null,
   "id": "upper-preview",
   "metadata": {
    "scrolled": true
   },
   "outputs": [],
   "source": [
    "LSTM_forecaster = LSTMForecaster(window=12, neurons=64, features=['values', 'diffs', 'hours'])\n",
    "LSTM_forecaster.cross_validate(temperature_timeseries, rounds=3)"
   ]
  },
  {
   "cell_type": "markdown",
   "id": "charged-instruction",
   "metadata": {},
   "source": [
    "..and now fit, apply and plot:"
   ]
  },
  {
   "cell_type": "code",
   "execution_count": null,
   "id": "consistent-prisoner",
   "metadata": {},
   "outputs": [],
   "source": [
    "LSTM_forecaster.fit(temperature_timeseries)\n",
    "LSTM_forecaster.apply(temperature_timeseries,n=72).plot(indexes=['forecast'])"
   ]
  },
  {
   "cell_type": "markdown",
   "id": "satellite-metro",
   "metadata": {},
   "source": [
    "\n",
    "<br />\n",
    "\n",
    "## Run an anomaly detection model"
   ]
  },
  {
   "cell_type": "markdown",
   "id": "crude-price",
   "metadata": {},
   "source": [
    "Use the periodic average anomaly detection model, which will consider a data point value an anomaly if too far from its periodic average. This will add an \"anomaly\" index as data points attibute."
   ]
  },
  {
   "cell_type": "code",
   "execution_count": null,
   "id": "miniature-porcelain",
   "metadata": {},
   "outputs": [],
   "source": [
    "from timeseria.models import PeriodicAverageAnomalyDetector\n",
    "paverage_anomaly_detector = PeriodicAverageAnomalyDetector()\n",
    "paverage_anomaly_detector.fit(temperature_timeseries, stdevs=5)"
   ]
  },
  {
   "cell_type": "markdown",
   "id": "happy-target",
   "metadata": {},
   "source": [
    "Apply and plot, but show only the \"anomaly\" index to improve plot readability:"
   ]
  },
  {
   "cell_type": "code",
   "execution_count": null,
   "id": "protected-french",
   "metadata": {},
   "outputs": [],
   "source": [
    "paverage_anomaly_detector.apply(temperature_timeseries).plot(indexes=['anomaly'])"
   ]
  },
  {
   "cell_type": "markdown",
   "id": "closing-techno",
   "metadata": {},
   "source": [
    "## Altogether"
   ]
  },
  {
   "cell_type": "markdown",
   "id": "postal-priority",
   "metadata": {},
   "source": [
    "Apply again both models, but this time on the same time series, and plot:"
   ]
  },
  {
   "cell_type": "code",
   "execution_count": null,
   "id": "changing-discussion",
   "metadata": {
    "scrolled": false
   },
   "outputs": [],
   "source": [
    "anoamaly_temperature_timeseries = paverage_anomaly_detector.apply(temperature_timeseries)\n",
    "forecast_and_anomaly_temperature_timeseries = LSTM_forecaster.apply(anoamaly_temperature_timeseries, n=72)\n",
    "forecast_and_anomaly_temperature_timeseries.plot()"
   ]
  },
  {
   "cell_type": "markdown",
   "id": "second-double",
   "metadata": {},
   "source": [
    "## Move to daily data\n",
    "\n",
    "Slot the time seried into 1-day slots, but change the timezone before to get the right daily average and to properly take into account the DST change. Slotting in days is indeed different than slotting in 24 hours, they are just two different time units: the first is variable, the second is fixed."
   ]
  },
  {
   "cell_type": "code",
   "execution_count": null,
   "id": "digital-darwin",
   "metadata": {
    "scrolled": false
   },
   "outputs": [],
   "source": [
    "forecast_and_anomaly_temperature_timeseries.change_timezone('Europe/Rome')\n",
    "forecast_and_anomaly_temperature_timeseries.slot('1D').plot()"
   ]
  },
  {
   "cell_type": "markdown",
   "id": "stock-entrepreneur",
   "metadata": {},
   "source": [
    "<br/>\n",
    "\n",
    "## Next steps\n",
    "\n",
    "You can have a look at the [welcome tutorial](https://sarusso.github.io/Timeseria/Welcome.html), which provides a more structired introduction on Timeseria datastructures and their philosophy, as well as practical examples on both buiilt-in and custom models and operations.\n",
    "\n",
    "You can also have a look at the example repository ([Timeseria-notebooks](https://github.com/sarusso/Timeseria-notebooks)), which is also ready to be play wiht in [Binder](https://mybinder.org/v2/gh/sarusso/Timeseria-notebooks/HEAD), together with this quickstart and the welcome tutorial.\n",
    "\n",
    "<br/>\n",
    "Or, you can give it a try in your own projects:\n",
    "\n",
    "```\n",
    "pip install git+https://github.com/sarusso/Timeseria.git\n",
    "```\n",
    "\n",
    "..or you can contribute! :)\n",
    "<br/>\n",
    "<br/>\n",
    "\n",
    "\n"
   ]
  },
  {
   "cell_type": "code",
   "execution_count": null,
   "id": "great-catalog",
   "metadata": {},
   "outputs": [],
   "source": []
  }
 ],
 "metadata": {
  "kernelspec": {
   "display_name": "Python 3",
   "language": "python",
   "name": "python3"
  },
  "language_info": {
   "codemirror_mode": {
    "name": "ipython",
    "version": 3
   },
   "file_extension": ".py",
   "mimetype": "text/x-python",
   "name": "python",
   "nbconvert_exporter": "python",
   "pygments_lexer": "ipython3",
   "version": "3.6.9"
  }
 },
 "nbformat": 4,
 "nbformat_minor": 5
}
