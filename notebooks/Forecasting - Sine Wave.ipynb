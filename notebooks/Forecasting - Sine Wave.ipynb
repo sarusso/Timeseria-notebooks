{
 "cells": [
  {
   "cell_type": "code",
   "execution_count": null,
   "metadata": {},
   "outputs": [],
   "source": [
    "%%javascript\n",
    "IPython.OutputArea.auto_scroll_threshold = 9999;"
   ]
  },
  {
   "cell_type": "code",
   "execution_count": null,
   "metadata": {},
   "outputs": [],
   "source": [
    "import logging\n",
    "logging.basicConfig(level='INFO')\n",
    "\n",
    "from timeseria.storages import CSVFileStorage\n",
    "from timeseria.datastructures import DataTimeSlotSeries, DataTimeSlot, TimePoint\n",
    "\n",
    "TEST_DATA_PATH = '/opt/Timeseria/timeseria/tests/test_data/'\n",
    "\n",
    "#from timeseria.models import LSTMForecaster\n",
    "#forecaster = LSTMForecaster()\n",
    "#forecaster.train(dataTimeSlotSerie1_reconstructed)\n",
    "# Create a test dataTimeSlotSeries\n",
    "from math import sin\n",
    "\n",
    "timeseries = DataTimeSlotSeries()\n",
    "for i in range(1000):\n",
    "    timeseries.append(DataTimeSlot(coverage=1, start=TimePoint(i*60), end=TimePoint((i+1)*60), data={'value':sin((i)/10.0)}))\n",
    "    #dataTimeSlotSerie.append(DataTimeSlot(start=TimePoint(i*60, tz=\"Europe/Rome\"), end=TimePoint((i+1)*60, tz=\"Europe/Rome\"), data={'value':sin(i/10.0)}))\n",
    "\n",
    "\n",
    "timeseries.plot()\n",
    "base_timeseries = timeseries\n",
    "\n"
   ]
  },
  {
   "cell_type": "code",
   "execution_count": null,
   "metadata": {},
   "outputs": [],
   "source": [
    "from timeseria.models import PeriodicAverageForecaster\n",
    "forecaster = PeriodicAverageForecaster()\n",
    "forecaster.fit(timeseries)#, periodicity=63)"
   ]
  },
  {
   "cell_type": "code",
   "execution_count": null,
   "metadata": {},
   "outputs": [],
   "source": [
    "forecaster._plot_averages(timeseries)"
   ]
  },
  {
   "cell_type": "code",
   "execution_count": null,
   "metadata": {},
   "outputs": [],
   "source": [
    "\n",
    "timeseries_with_forecast = forecaster.apply(base_timeseries, n=24*6)\n",
    "#timeseries_with_forecast.mark=None\n",
    "#timeseries_with_forecast.plot(aggregate_by=10, log_js=False)\n",
    "print(timeseries_with_forecast[-800].data_loss)\n",
    "timeseries_with_forecast.plot(log_js=False)\n",
    "# reference_dataTimeSlotSerie.plot()\n",
    "# reference_dataTimeSlotSerie[0]"
   ]
  },
  {
   "cell_type": "code",
   "execution_count": null,
   "metadata": {},
   "outputs": [],
   "source": [
    "#forecaster.data"
   ]
  }
 ],
 "metadata": {
  "kernelspec": {
   "display_name": "Python 3",
   "language": "python",
   "name": "python3"
  },
  "language_info": {
   "codemirror_mode": {
    "name": "ipython",
    "version": 3
   },
   "file_extension": ".py",
   "mimetype": "text/x-python",
   "name": "python",
   "nbconvert_exporter": "python",
   "pygments_lexer": "ipython3",
   "version": "3.6.9"
  }
 },
 "nbformat": 4,
 "nbformat_minor": 4
}
